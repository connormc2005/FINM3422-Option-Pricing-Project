{
 "cells": [
  {
   "cell_type": "markdown",
   "id": "21fb1564",
   "metadata": {},
   "source": [
    "# FINM3422 - Trading Desk Analysis\n",
    "## Exotic Derivatives Pricing and Portfolio Management\n",
    "\n",
    "**Date:** May 16, 2025  \n",
    "**Team:** Graduate Analysts - Exotic Derivatives Trading Desk  \n",
    "**Objective:** Price and manage a portfolio of four OTC option positions\n",
    "\n",
    "### Executive Summary\n",
    "This notebook implements a comprehensive option pricing and portfolio management system for four specific OTC derivative trades:\n",
    "\n",
    "1. **European Call on BHP** - Strike at 98% of current price, expiry Sept 15, 2027\n",
    "2. **American Put on CBA** - Strike $170, expiry May 15, 2026\n",
    "3. **European Up-and-In Barrier Call on WES** - Strike $80, barrier $100, expiry Sept 15, 2027\n",
    "4. **European Basket Call** - Strike $175, expiry July 17, 2025, on BHP/CSL/WDS/MQG basket\n",
    "\n",
    "The system uses object-oriented programming principles with appropriate valuation methods for each derivative type and provides comprehensive portfolio hedging analysis."
   ]
  },
  {
   "cell_type": "code",
   "execution_count": null,
   "id": "6a2561b7",
   "metadata": {},
   "outputs": [],
   "source": [
    "\n",
    "\n"
   ]
  },
  {
   "cell_type": "markdown",
   "id": "dc539d7f",
   "metadata": {},
   "source": [
    "## 1. System Setup and Data Retrieval\n",
    "\n",
    "### 1.1 Import Required Libraries and Modules\n",
    "We begin by importing all necessary libraries and our custom modules for option pricing and data retrieval."
   ]
  },
  {
   "cell_type": "code",
   "execution_count": null,
   "id": "f3a4bc37",
   "metadata": {},
   "outputs": [],
   "source": []
  },
  {
   "cell_type": "markdown",
   "id": "ce3fbf88",
   "metadata": {},
   "source": [
    "### 1.2 Market Data Retrieval\n",
    "\n",
    "We fetch real-time market data for all required ASX stocks, calculate volatilities from historical data, estimate correlations, and obtain yield curve information. This section demonstrates our approach to sourcing market data from reliable sources."
   ]
  },
  {
   "cell_type": "code",
   "execution_count": null,
   "id": "a9d89359",
   "metadata": {},
   "outputs": [],
   "source": []
  },
  {
   "cell_type": "markdown",
   "id": "55872d59",
   "metadata": {},
   "source": [
    "### 1.3 Interest Rate Term Structure\n",
    "\n",
    "Our approach uses a sophisticated yield curve boostrapping method to determine appropriate discount rates for different maturities. This ensures that we capture the term structure of interest rates accurately for each option's specific maturity."
   ]
  },
  {
   "cell_type": "code",
   "execution_count": null,
   "id": "e0594036",
   "metadata": {},
   "outputs": [],
   "source": []
  },
  {
   "cell_type": "markdown",
   "id": "6bff438f",
   "metadata": {},
   "source": [
    "## 2. Option Pricing Implementation\n",
    "\n",
    "### 2.1 Trade 1: European Call Option on BHP\n",
    "\n",
    "**Trade Details:**\n",
    "- Underlying: BHP Group Ltd (BHP)\n",
    "- Option Type: European Call\n",
    "- Strike Price: 98% of current BHP price\n",
    "- Expiry: September 15, 2027\n",
    "- Position: **WRITE** (Bank sells the option)\n",
    "\n",
    "**Valuation Method:** Black-Scholes model is most appropriate for European options as it provides a closed-form solution and is the industry standard for liquid European options."
   ]
  },
  {
   "cell_type": "code",
   "execution_count": 4,
   "id": "bf373859",
   "metadata": {},
   "outputs": [
    {
     "name": "stdout",
     "output_type": "stream",
     "text": [
      "European Call Option on BHP (Strike = 38.93, Expiry = 2027-09-15):\n",
      "Option Price: $7.30\n",
      "\n",
      "Greeks for BHP European Call Option:\n",
      "  Delta: 0.6771\n",
      "  Gamma: 0.0260\n",
      "  Theta: -1.7239\n",
      "  Vega: 21.7990\n",
      "  Rho: 46.2770\n"
     ]
    }
   ],
   "source": [
    "from datetime import date\n",
    "from Option_Classes import EuropeanOption\n",
    "\n",
    "current_price = 39.72\n",
    "strike_price = 38.9256\n",
    "expiry = date(2027, 9, 15)\n",
    "option_type = 'call'\n",
    "today_date = date(2025, 5, 16)\n",
    "sigma = 0.2272\n",
    "\n",
    "# Instantiate the European call option\n",
    "bhp_eur_call = EuropeanOption(\n",
    "    current_price=current_price,\n",
    "    strike_price=strike_price,\n",
    "    expiry=expiry,\n",
    "    option_type=option_type,\n",
    "    today_date=today_date,\n",
    "    sigma=sigma\n",
    ")\n",
    "\n",
    "# Calculate the price\n",
    "bhp_call_price = bhp_eur_call.option_price()\n",
    "\n",
    "print(f\"European Call Option on BHP (Strike = {strike_price:.2f}, Expiry = {expiry}):\")\n",
    "print(f\"Option Price: ${bhp_call_price:.2f}\")\n",
    "\n",
    "# Calculate and print Greeks for the BHP European call option\n",
    "bhp_call_greeks = bhp_eur_call.greeks()\n",
    "print(\"\\nGreeks for BHP European Call Option:\") # Added a newline for better formatting\n",
    "for greek_name, greek_value in bhp_call_greeks.items():\n",
    "    print(f\"  {greek_name.capitalize()}: {greek_value:.4f}\")"
   ]
  },
  {
   "cell_type": "markdown",
   "id": "12f58e5d",
   "metadata": {},
   "source": [
    "### 2.2 Trade 2: American Put Option on CBA\n",
    "\n",
    "**Trade Details:**\n",
    "- Underlying: Commonwealth Bank of Australia (CBA)\n",
    "- Option Type: American Put\n",
    "- Strike Price: $170.00 (fixed)\n",
    "- Expiry: May 15, 2026\n",
    "- Position: **BUY** (Bank purchases the option)\n",
    "\n",
    "**Valuation Method:** Binomial tree model is used for American options as it can handle the early exercise feature, which is valuable for puts when the stock price falls significantly below the strike."
   ]
  },
  {
   "cell_type": "code",
   "execution_count": 3,
   "id": "c68bc516",
   "metadata": {},
   "outputs": [
    {
     "name": "stdout",
     "output_type": "stream",
     "text": [
      "American Put Option on CBA (Strike = 170.00, Expiry = 2026-05-15):\n",
      "Option Price: $10.05\n",
      "\n",
      "Greeks for CBA American Put Option:\n",
      "  Delta: -0.4331\n",
      "  Gamma: 0.0056\n",
      "  Theta: -3.9196\n",
      "  Vega: 64.9070\n",
      "  Rho: -53.6915\n"
     ]
    }
   ],
   "source": [
    "from datetime import date\n",
    "from Option_Classes import AmericanOption\n",
    "\n",
    "# Trade parameters\n",
    "current_price = 169.66\n",
    "strike_price = 170.00\n",
    "expiry = date(2026, 5, 15)\n",
    "option_type = 'put'\n",
    "today_date = date(2025, 5, 16)\n",
    "sigma = 0.18055\n",
    "n_steps = 1000\n",
    "\n",
    "# Instantiate the American put option\n",
    "cba_american_put = AmericanOption(\n",
    "    current_price=current_price,\n",
    "    strike_price=strike_price,\n",
    "    expiry=expiry,\n",
    "    option_type=option_type,\n",
    "    today_date=today_date,\n",
    "    sigma=sigma,\n",
    "    n_steps=n_steps\n",
    ")\n",
    "\n",
    "# Calculate the price\n",
    "cba_put_price = cba_american_put.option_price()\n",
    "\n",
    "print(f\"American Put Option on CBA (Strike = {strike_price:.2f}, Expiry = {expiry}):\")\n",
    "print(f\"Option Price: ${cba_put_price:.2f}\")\n",
    "\n",
    "# Calculate and print Greeks for the CBA American put option\n",
    "cba_put_greeks = cba_american_put.greeks()\n",
    "print(\"\\nGreeks for CBA American Put Option:\") # Added a newline for better formatting\n",
    "for greek_name, greek_value in cba_put_greeks.items():\n",
    "    print(f\"  {greek_name.capitalize()}: {greek_value:.4f}\")"
   ]
  },
  {
   "cell_type": "markdown",
   "id": "da3441e0",
   "metadata": {},
   "source": [
    "### 2.3 Trade 3: European Up-and-In Barrier Call on WES\n",
    "\n",
    "**Trade Details:**\n",
    "- Underlying: Wesfarmers Limited (WES)\n",
    "- Option Type: European Up-and-In Barrier Call\n",
    "- Strike Price: $80.00\n",
    "- Barrier Level: $100.00 (up-and-in)\n",
    "- Expiry: September 15, 2027\n",
    "- Position: **BUY** (Bank purchases the option)\n",
    "\n",
    "**Valuation Method:** We use both binomial tree and Monte Carlo methods for barrier options. The binomial method provides discrete barrier monitoring while Monte Carlo offers continuous monitoring simulation."
   ]
  },
  {
   "cell_type": "code",
   "execution_count": 2,
   "id": "39416b64",
   "metadata": {},
   "outputs": [
    {
     "name": "stdout",
     "output_type": "stream",
     "text": [
      "European Up-and-In Barrier Call on WES (Strike = 80.00, Barrier = 100.00, Expiry = 2027-09-15):\n",
      "Option Price (Binomial): $13.72\n",
      "\n",
      "Greeks for WES Barrier Call (Binomial Model):\n",
      "  Delta: 0.6974\n",
      "  Gamma: -0.0000\n",
      "  Theta: -3.2244\n",
      "  Vega: 43.8444\n",
      "  Rho: 104.9407\n",
      "\n",
      "Option Price (Monte Carlo): $12.76\n",
      "\n",
      "Greeks for WES Barrier Call (Monte Carlo Model):\n",
      "  Delta: 39.2693\n",
      "  Gamma: 3845.6263\n",
      "  Theta: 104.1706\n",
      "  Vega: 74.0920\n",
      "  Rho: 116.6325\n"
     ]
    }
   ],
   "source": [
    "from datetime import date\n",
    "from Option_Classes import BarrierOption\n",
    "\n",
    "# Trade 3 parameters - European Up-and-In Barrier Call on WES\n",
    "# Note: current_price and sigma for WES should be updated with actual market data.\n",
    "current_price = 82.56  # Placeholder WES price - REPLACE WITH ACTUAL\n",
    "strike_price = 80.00\n",
    "barrier_price = 100.00\n",
    "expiry = date(2027, 9, 15)\n",
    "option_type = 'call'\n",
    "today_date = date(2025, 5, 16)\n",
    "sigma = 0.1839 # Placeholder WES volatility - REPLACE WITH ACTUAL\n",
    "n_steps_binomial = 1000 # Number of steps for binomial model\n",
    "n_steps_mc = 100      # Number of time steps for Monte Carlo simulation (for price)\n",
    "                      # The greeks method for BarrierOption also uses n_steps for its internal pricing calls.\n",
    "\n",
    "# Instantiate the barrier option (Binomial for primary pricing)\n",
    "wes_barrier_call_binomial = BarrierOption(\n",
    "    current_price=current_price,\n",
    "    strike_price=strike_price,\n",
    "    expiry=expiry,\n",
    "    option_type=option_type,\n",
    "    today_date=today_date,\n",
    "    sigma=sigma,\n",
    "    barrier_price=barrier_price,\n",
    "    method=\"binomial\", # Using binomial for the main price and Greeks\n",
    "    n_steps=n_steps_binomial\n",
    ")\n",
    "\n",
    "# Calculate the price using binomial method\n",
    "wes_barrier_price_binomial_val = wes_barrier_call_binomial.option_price()\n",
    "\n",
    "print(f\"European Up-and-In Barrier Call on WES (Strike = {strike_price:.2f}, Barrier = {barrier_price:.2f}, Expiry = {expiry}):\")\n",
    "print(f\"Option Price (Binomial): ${wes_barrier_price_binomial_val:.2f}\")\n",
    "\n",
    "# Calculate and print Greeks using the binomial model instance\n",
    "# The .greeks() method in BarrierOption will use the 'method' and 'n_steps' it was initialized with.\n",
    "wes_barrier_greeks_binomial = wes_barrier_call_binomial.greeks()\n",
    "print(\"\\nGreeks for WES Barrier Call (Binomial Model):\")\n",
    "for greek_name, greek_value in wes_barrier_greeks_binomial.items():\n",
    "    print(f\"  {greek_name.capitalize()}: {greek_value:.4f}\")\n",
    "\n",
    "# For Monte Carlo pricing (as per original notebook structure)\n",
    "wes_barrier_call_mc = BarrierOption(\n",
    "    current_price=current_price,\n",
    "    strike_price=strike_price,\n",
    "    expiry=expiry,\n",
    "    option_type=option_type,\n",
    "    today_date=today_date,\n",
    "    sigma=sigma,\n",
    "    barrier_price=barrier_price,\n",
    "    method=\"monte-carlo\",\n",
    "    n_steps=n_steps_mc # n_steps for MC price simulation, can differ from binomial\n",
    ")\n",
    "wes_barrier_price_mc_val = wes_barrier_call_mc.option_price()\n",
    "print(f\"\\nOption Price (Monte Carlo): ${wes_barrier_price_mc_val:.2f}\")\n",
    "\n",
    "# If you also want Greeks from the Monte Carlo perspective (will be slower):\n",
    "wes_barrier_greeks_mc = wes_barrier_call_mc.greeks()\n",
    "print(\"\\nGreeks for WES Barrier Call (Monte Carlo Model):\")\n",
    "for greek_name, greek_value in wes_barrier_greeks_mc.items():\n",
    "    print(f\"  {greek_name.capitalize()}: {greek_value:.4f}\")\n"
   ]
  },
  {
   "cell_type": "markdown",
   "id": "c857b12a",
   "metadata": {},
   "source": [
    "### 2.4 Trade 4: European Basket Call Option\n",
    "\n",
    "**Trade Details:**\n",
    "- Underlying Basket: 10% BHP, 35% CSL, 15% WDS, 40% MQG\n",
    "- Option Type: European Call on basket value\n",
    "- Strike Price: $175.00\n",
    "- Expiry: July 17, 2025\n",
    "- Position: **WRITE** (Bank sells the option)\n",
    "\n",
    "**Valuation Method:** Monte Carlo simulation with correlation structure is essential for basket options as there's no closed-form solution. We use Cholesky decomposition to generate correlated asset price paths."
   ]
  },
  {
   "cell_type": "code",
   "execution_count": 6,
   "id": "8cc0cf46",
   "metadata": {},
   "outputs": [
    {
     "name": "stdout",
     "output_type": "stream",
     "text": [
      "European Basket Call Option (Strike = 175.00, Expiry = 2025-07-17):\n",
      "Basket composition: 10% BHP, 35% CSL, 15% WDS, 40% MQG\n",
      "Using current prices: BHP: $39.72, CSL: $241.82, WDS: $21.92, MQG: $211.25\n",
      "Option Price: $6.10\n",
      "\n",
      "Greeks for European Basket Call Option:\n",
      "  Deltas (for BHP, CSL, WDS, MQG respectively):\n",
      "    BHP: 1.9480\n",
      "    CSL: -1.2514\n",
      "    WDS: -2.9398\n",
      "    MQG: 2.1189\n",
      "  Vega: 22.8157\n",
      "  Theta: -35.6431\n",
      "  Rho: 17.0699\n",
      "  Portfolio_volatility: 0.1755\n"
     ]
    }
   ],
   "source": [
    "from datetime import date\n",
    "import numpy as np\n",
    "from Option_Classes import BasketOption # Ensure BasketOption is imported\n",
    "\n",
    "# Trade 4 parameters - European Basket Call Option\n",
    "# Basket definition: 10% BHP, 35% CSL, 15% WDS, 40% MQG\n",
    "asset_tickers_in_basket = ['BHP.AX', 'CSL.AX', 'WDS.AX', 'MQG.AX']\n",
    "weights = [0.10, 0.35, 0.15, 0.40] # Corresponding to asset_tickers_in_basket\n",
    "\n",
    "# Current prices for the basket assets\n",
    "# These should ideally be dynamic or updated regularly.\n",
    "# Using the last known values from data.py output for this example.\n",
    "current_prices = [39.72, 241.82, 21.92, 211.25] # BHP, CSL, WDS, MQG\n",
    "\n",
    "strike_price = 175.00\n",
    "expiry = date(2025, 7, 17)\n",
    "option_type = 'call'\n",
    "today_date = date(2025, 5, 16)\n",
    "\n",
    "# Volatilities for assets in asset_tickers_in_basket (BHP, CSL, WDS, MQG)\n",
    "\n",
    "sigma_bhp = 0.2064  \n",
    "sigma_csl = 0.2109   \n",
    "sigma_wds = 0.2637    \n",
    "sigma_mqg = 0.2085    \n",
    "sigmas = [sigma_bhp, sigma_csl, sigma_wds, sigma_mqg] # List of volatilities for the basket\n",
    "\n",
    "# Hardcoded Correlation Matrix for BHP, CSL, WDS, MQG\n",
    "# Order: BHP with (BHP, CSL, WDS, MQG), CSL with (BHP, CSL, WDS, MQG), ...\n",
    "correlation_matrix_np = np.array([\n",
    "    [1.000000, 0.452170, 0.807649, 0.878665],  # BHP with BHP, CSL, WDS, MQG\n",
    "    [0.452170, 1.000000, 0.581252, 0.243513],  # CSL with BHP, CSL, WDS, MQG\n",
    "    [0.807649, 0.581252, 1.000000, 0.651679],  # WDS with BHP, CSL, WDS, MQG\n",
    "    [0.878665, 0.243513, 0.651679, 1.000000]   # MQG with BHP, CSL, WDS, MQG\n",
    "])\n",
    "\n",
    "# Instantiate the basket option\n",
    "basket_call = BasketOption(\n",
    "    current_prices=current_prices,\n",
    "    weights=weights,\n",
    "    strike_price=strike_price,\n",
    "    expiry=expiry,\n",
    "    option_type=option_type,\n",
    "    today_date=today_date,\n",
    "    sigma=sigmas, \n",
    "    correlation_matrix=correlation_matrix_np # Using the hardcoded NumPy array\n",
    ")\n",
    "\n",
    "# Calculate the price\n",
    "basket_call_price = basket_call.option_price()\n",
    "\n",
    "print(f\"European Basket Call Option (Strike = {strike_price:.2f}, Expiry = {expiry}):\")\n",
    "print(f\"Basket composition: {weights[0]*100:.0f}% BHP, {weights[1]*100:.0f}% CSL, {weights[2]*100:.0f}% WDS, {weights[3]*100:.0f}% MQG\")\n",
    "asset_price_info = \", \".join([f\"{asset.replace('.AX','')}: ${price:.2f}\" for asset, price in zip(asset_tickers_in_basket, current_prices)])\n",
    "print(f\"Using current prices: {asset_price_info}\") # Changed \"latest\" to \"current\" as they are now hardcoded in this cell\n",
    "print(f\"Option Price: ${basket_call_price:.2f}\")\n",
    "\n",
    "# Calculate and print Greeks for the Basket option\n",
    "basket_call_greeks = basket_call.greeks()\n",
    "print(\"\\nGreeks for European Basket Call Option:\")\n",
    "for greek_name, greek_value in basket_call_greeks.items():\n",
    "    if greek_name == 'deltas': \n",
    "        print(f\"  Deltas (for {', '.join(asset.replace('.AX','') for asset in asset_tickers_in_basket)} respectively):\")\n",
    "        for i, delta_val in enumerate(greek_value):\n",
    "            print(f\"    {asset_tickers_in_basket[i].replace('.AX','')}: {delta_val:.4f}\")\n",
    "    else:\n",
    "        print(f\"  {greek_name.capitalize()}: {greek_value:.4f}\")"
   ]
  },
  {
   "cell_type": "markdown",
   "id": "62ba0827",
   "metadata": {},
   "source": [
    "## 3. Portfolio Analysis and Risk Management\n",
    "\n",
    "### 3.1 Portfolio Construction\n",
    "\n",
    "We now construct the complete portfolio with all four trades, considering the bank's position (long/short) for each option. This section demonstrates sophisticated portfolio management techniques for exotic derivatives."
   ]
  },
  {
   "cell_type": "code",
   "execution_count": null,
   "id": "7982e9eb",
   "metadata": {},
   "outputs": [],
   "source": []
  },
  {
   "cell_type": "markdown",
   "id": "140e3a3f",
   "metadata": {},
   "source": [
    "### 3.2 Comprehensive Risk Analysis\n",
    "\n",
    "This section provides detailed risk analysis including individual option contributions and portfolio-level risk metrics. Our analysis covers all major Greeks and their implications for portfolio management."
   ]
  },
  {
   "cell_type": "code",
   "execution_count": null,
   "id": "c2300321",
   "metadata": {},
   "outputs": [],
   "source": []
  },
  {
   "cell_type": "markdown",
   "id": "9af5d0ad",
   "metadata": {},
   "source": [
    "### 3.3 Hedging Strategy and Recommendations\n",
    "\n",
    "This section provides comprehensive hedging recommendations based on the portfolio's Greek exposures. We analyse both basic delta hedging and more sophisticated multi-dimensional hedging strategies appropriate for an institutional trading desk."
   ]
  },
  {
   "cell_type": "code",
   "execution_count": null,
   "id": "61874d24",
   "metadata": {},
   "outputs": [],
   "source": []
  },
  {
   "cell_type": "markdown",
   "id": "a4884f60",
   "metadata": {},
   "source": [
    "### 3.4 Portfolio Stress Testing and Scenario Analysis\n",
    "\n",
    "We conduct scenario analysis to understand how the portfolio performs under different market conditions. This demonstrates sophisticated risk management practices expected in institutional environments."
   ]
  },
  {
   "cell_type": "code",
   "execution_count": null,
   "id": "6952ad85",
   "metadata": {},
   "outputs": [],
   "source": []
  },
  {
   "cell_type": "markdown",
   "id": "e18691fe",
   "metadata": {},
   "source": [
    "## 4. Summary and Trading Recommendations\n",
    "\n",
    "### 4.1 Executive Summary\n",
    "\n",
    "This section provides a comprehensive summary of all pricing results, risk assessments, and strategic recommendations for the trading desk."
   ]
  },
  {
   "cell_type": "code",
   "execution_count": null,
   "id": "b7d3be7e",
   "metadata": {},
   "outputs": [],
   "source": []
  },
  {
   "cell_type": "markdown",
   "id": "fcb3b7aa",
   "metadata": {},
   "source": [
    "## 5. Technical Documentation\n",
    "\n",
    "### 5.1 Model Validation and Implementation Notes\n",
    "\n",
    "This section documents the technical implementation decisions and validates our modeling choices against industry best practices."
   ]
  },
  {
   "cell_type": "code",
   "execution_count": null,
   "id": "0d82a230",
   "metadata": {},
   "outputs": [],
   "source": []
  }
 ],
 "metadata": {
  "kernelspec": {
   "display_name": "Python 3",
   "language": "python",
   "name": "python3"
  },
  "language_info": {
   "codemirror_mode": {
    "name": "ipython",
    "version": 3
   },
   "file_extension": ".py",
   "mimetype": "text/x-python",
   "name": "python",
   "nbconvert_exporter": "python",
   "pygments_lexer": "ipython3",
   "version": "3.12.1"
  }
 },
 "nbformat": 4,
 "nbformat_minor": 5
}
