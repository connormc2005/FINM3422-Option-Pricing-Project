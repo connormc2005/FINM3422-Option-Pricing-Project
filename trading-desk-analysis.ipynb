{
 "cells": [
  {
   "cell_type": "code",
   "execution_count": 5,
   "id": "bca27742",
   "metadata": {},
   "outputs": [
    {
     "ename": "ModuleNotFoundError",
     "evalue": "No module named 'Option_Classes'",
     "output_type": "error",
     "traceback": [
      "\u001b[31m---------------------------------------------------------------------------\u001b[39m",
      "\u001b[31mModuleNotFoundError\u001b[39m                       Traceback (most recent call last)",
      "\u001b[36mCell\u001b[39m\u001b[36m \u001b[39m\u001b[32mIn[5]\u001b[39m\u001b[32m, line 2\u001b[39m\n\u001b[32m      1\u001b[39m \u001b[38;5;28;01mfrom\u001b[39;00m\u001b[38;5;250m \u001b[39m\u001b[34;01mdatetime\u001b[39;00m\u001b[38;5;250m \u001b[39m\u001b[38;5;28;01mimport\u001b[39;00m date\n\u001b[32m----> \u001b[39m\u001b[32m2\u001b[39m \u001b[38;5;28;01mfrom\u001b[39;00m\u001b[38;5;250m \u001b[39m\u001b[34;01mOption_Classes\u001b[39;00m\u001b[38;5;250m \u001b[39m\u001b[38;5;28;01mimport\u001b[39;00m AmericanOption, EuropeanOption\n\u001b[32m      4\u001b[39m \u001b[38;5;66;03m# Create American put\u001b[39;00m\n\u001b[32m      5\u001b[39m american_put = AmericanOption(\n\u001b[32m      6\u001b[39m     current_price=\u001b[32m155.00\u001b[39m,\n\u001b[32m      7\u001b[39m     strike_price=\u001b[32m170.00\u001b[39m,\n\u001b[32m   (...)\u001b[39m\u001b[32m     13\u001b[39m     n_steps=\u001b[32m200\u001b[39m\n\u001b[32m     14\u001b[39m )\n",
      "\u001b[31mModuleNotFoundError\u001b[39m: No module named 'Option_Classes'"
     ]
    }
   ],
   "source": [
    "from datetime import date\n",
    "from Option_Classes import AmericanOption, EuropeanOption\n",
    "\n",
    "# Create American put\n",
    "american_put = AmericanOption(\n",
    "    current_price=155.00,\n",
    "    strike_price=170.00,\n",
    "    expiry=date(2026, 5, 15),\n",
    "    option_type='put',\n",
    "    today_date=date(2024, 12, 1),\n",
    "    interest_rate=0.045,\n",
    "    sigma=0.25,\n",
    "    n_steps=200\n",
    ")\n",
    "\n",
    "# Create European put for comparison\n",
    "european_put = EuropeanOption(\n",
    "    current_price=155.00,\n",
    "    strike_price=170.00,\n",
    "    expiry=date(2026, 5, 15),\n",
    "    option_type='put',\n",
    "    today_date=date(2024, 12, 1),\n",
    "    interest_rate=0.045,\n",
    "    sigma=0.25\n",
    ")\n",
    "\n",
    "# Get prices\n",
    "american_price = american_put.option_price()  # Binomial tree\n",
    "european_price = european_put.option_price()  # Black-Scholes\n",
    "\n",
    "print(f\"American Put: ${american_price:.4f}\")\n",
    "print(f\"European Put: ${european_price:.4f}\")\n",
    "print(f\"Early Exercise Premium: ${american_price - european_price:.4f}\")"
   ]
  },
  {
   "cell_type": "code",
   "execution_count": null,
   "id": "6a2561b7",
   "metadata": {},
   "outputs": [],
   "source": []
  }
 ],
 "metadata": {
  "kernelspec": {
   "display_name": "Python 3",
   "language": "python",
   "name": "python3"
  },
  "language_info": {
   "codemirror_mode": {
    "name": "ipython",
    "version": 3
   },
   "file_extension": ".py",
   "mimetype": "text/x-python",
   "name": "python",
   "nbconvert_exporter": "python",
   "pygments_lexer": "ipython3",
   "version": "3.12.1"
  }
 },
 "nbformat": 4,
 "nbformat_minor": 5
}
