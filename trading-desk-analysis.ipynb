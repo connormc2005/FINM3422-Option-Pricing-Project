{
 "cells": [
  {
   "cell_type": "markdown",
   "id": "21fb1564",
   "metadata": {},
   "source": [
    "# FINM3422 - Trading Desk Analysis\n",
    "## Exotic Derivatives Pricing and Portfolio Management\n",
    "\n",
    "**Date:** May 16, 2025  \n",
    "**Team:** Graduate Analysts - Exotic Derivatives Trading Desk  \n",
    "**Objective:** Price and manage a portfolio of four OTC option positions\n",
    "\n",
    "### Executive Summary\n",
    "This notebook implements a comprehensive option pricing and portfolio management system for four specific OTC derivative trades:\n",
    "\n",
    "1. **European Call on BHP** - Strike at 98% of current price, expiry Sept 15, 2027\n",
    "2. **American Put on CBA** - Strike $170, expiry May 15, 2026\n",
    "3. **European Up-and-In Barrier Call on WES** - Strike $80, barrier $100, expiry Sept 15, 2027\n",
    "4. **European Basket Call** - Strike $175, expiry July 17, 2025, on BHP/CSL/WDS/MQG basket\n",
    "\n",
    "The system uses object-oriented programming principles with appropriate valuation methods for each derivative type and provides comprehensive portfolio hedging analysis."
   ]
  },
  {
   "cell_type": "code",
   "execution_count": null,
   "id": "6a2561b7",
   "metadata": {},
   "outputs": [
    {
     "name": "stdout",
     "output_type": "stream",
     "text": [
      "European Call Option on BHP (Strike = 38.93, Expiry = 2027-09-15):\n",
      "Option Price: $7.30\n"
     ]
    }
   ],
   "source": [
    "\n",
    "\n"
   ]
  },
  {
   "cell_type": "markdown",
   "id": "dc539d7f",
   "metadata": {},
   "source": [
    "## 1. System Setup and Data Retrieval\n",
    "\n",
    "### 1.1 Import Required Libraries and Modules\n",
    "We begin by importing all necessary libraries and our custom modules for option pricing and data retrieval."
   ]
  },
  {
   "cell_type": "code",
   "execution_count": null,
   "id": "f3a4bc37",
   "metadata": {},
   "outputs": [
    {
     "name": "stdout",
     "output_type": "stream",
     "text": [
      "American Put Option on CBA (Strike = 170.00, Expiry = 2026-05-15):\n",
      "Option Price: $10.05\n"
     ]
    }
   ],
   "source": []
  },
  {
   "cell_type": "markdown",
   "id": "ce3fbf88",
   "metadata": {},
   "source": [
    "### 1.2 Market Data Retrieval\n",
    "\n",
    "We fetch real-time market data for all required ASX stocks, calculate volatilities from historical data, estimate correlations, and obtain yield curve information. This section demonstrates our approach to sourcing market data from reliable sources."
   ]
  },
  {
   "cell_type": "code",
   "execution_count": null,
   "id": "a9d89359",
   "metadata": {},
   "outputs": [
    {
     "data": {
      "text/plain": [
       "np.float64(0.033894780445888804)"
      ]
     },
     "execution_count": 12,
     "metadata": {},
     "output_type": "execute_result"
    }
   ],
   "source": []
  },
  {
   "cell_type": "markdown",
   "id": "55872d59",
   "metadata": {},
   "source": [
    "### 1.3 Interest Rate Term Structure\n",
    "\n",
    "Our approach uses a sophisticated yield curve boostrapping method to determine appropriate discount rates for different maturities. This ensures that we capture the term structure of interest rates accurately for each option's specific maturity."
   ]
  },
  {
   "cell_type": "code",
   "execution_count": null,
   "id": "e0594036",
   "metadata": {},
   "outputs": [],
   "source": []
  },
  {
   "cell_type": "markdown",
   "id": "6bff438f",
   "metadata": {},
   "source": [
    "## 2. Option Pricing Implementation\n",
    "\n",
    "### 2.1 Trade 1: European Call Option on BHP\n",
    "\n",
    "**Trade Details:**\n",
    "- Underlying: BHP Group Ltd (BHP)\n",
    "- Option Type: European Call\n",
    "- Strike Price: 98% of current BHP price\n",
    "- Expiry: September 15, 2027\n",
    "- Position: **WRITE** (Bank sells the option)\n",
    "\n",
    "**Valuation Method:** Black-Scholes model is most appropriate for European options as it provides a closed-form solution and is the industry standard for liquid European options."
   ]
  },
  {
   "cell_type": "code",
   "execution_count": 13,
   "id": "bf373859",
   "metadata": {},
   "outputs": [
    {
     "name": "stdout",
     "output_type": "stream",
     "text": [
      "European Call Option on BHP (Strike = 38.93, Expiry = 2027-09-15):\n",
      "Option Price: $7.30\n"
     ]
    }
   ],
   "source": [
    "from datetime import date\n",
    "from Option_Classes import EuropeanOption\n",
    "\n",
    "current_price = 39.72\n",
    "strike_price = 38.9256\n",
    "expiry = date(2027, 9, 15)\n",
    "option_type = 'call'\n",
    "today_date = date(2025, 5, 16)\n",
    "sigma = 0.2272\n",
    "\n",
    "# Instantiate the European call option\n",
    "bhp_eur_call = EuropeanOption(\n",
    "    current_price=current_price,\n",
    "    strike_price=strike_price,\n",
    "    expiry=expiry,\n",
    "    option_type=option_type,\n",
    "    today_date=today_date,\n",
    "    sigma=sigma\n",
    ")\n",
    "\n",
    "# Calculate the price\n",
    "bhp_call_price = bhp_eur_call.option_price()\n",
    "\n",
    "print(f\"European Call Option on BHP (Strike = {strike_price:.2f}, Expiry = {expiry}):\")\n",
    "print(f\"Option Price: ${bhp_call_price:.2f}\")"
   ]
  },
  {
   "cell_type": "markdown",
   "id": "12f58e5d",
   "metadata": {},
   "source": [
    "### 2.2 Trade 2: American Put Option on CBA\n",
    "\n",
    "**Trade Details:**\n",
    "- Underlying: Commonwealth Bank of Australia (CBA)\n",
    "- Option Type: American Put\n",
    "- Strike Price: $170.00 (fixed)\n",
    "- Expiry: May 15, 2026\n",
    "- Position: **BUY** (Bank purchases the option)\n",
    "\n",
    "**Valuation Method:** Binomial tree model is used for American options as it can handle the early exercise feature, which is valuable for puts when the stock price falls significantly below the strike."
   ]
  },
  {
   "cell_type": "code",
   "execution_count": 14,
   "id": "c68bc516",
   "metadata": {},
   "outputs": [
    {
     "name": "stdout",
     "output_type": "stream",
     "text": [
      "American Put Option on CBA (Strike = 170.00, Expiry = 2026-05-15):\n",
      "Option Price: $10.05\n"
     ]
    }
   ],
   "source": [
    "from datetime import date\n",
    "from Option_Classes import AmericanOption\n",
    "\n",
    "# Trade parameters\n",
    "current_price = 169.66\n",
    "strike_price = 170.00\n",
    "expiry = date(2026, 5, 15)\n",
    "option_type = 'put'\n",
    "today_date = date(2025, 5, 16)\n",
    "sigma = 0.18055             \n",
    "n_steps = 1000\n",
    "\n",
    "# Instantiate the American put option\n",
    "cba_american_put = AmericanOption(\n",
    "    current_price=current_price,\n",
    "    strike_price=strike_price,\n",
    "    expiry=expiry,\n",
    "    option_type=option_type,\n",
    "    today_date=today_date,\n",
    "    sigma=sigma,\n",
    "    n_steps=n_steps\n",
    ")\n",
    "\n",
    "# Calculate the price\n",
    "cba_put_price = cba_american_put.option_price()\n",
    "\n",
    "print(f\"American Put Option on CBA (Strike = {strike_price:.2f}, Expiry = {expiry}):\")\n",
    "print(f\"Option Price: ${cba_put_price:.2f}\")"
   ]
  },
  {
   "cell_type": "markdown",
   "id": "da3441e0",
   "metadata": {},
   "source": [
    "### 2.3 Trade 3: European Up-and-In Barrier Call on WES\n",
    "\n",
    "**Trade Details:**\n",
    "- Underlying: Wesfarmers Limited (WES)\n",
    "- Option Type: European Up-and-In Barrier Call\n",
    "- Strike Price: $80.00\n",
    "- Barrier Level: $100.00 (up-and-in)\n",
    "- Expiry: September 15, 2027\n",
    "- Position: **BUY** (Bank purchases the option)\n",
    "\n",
    "**Valuation Method:** We use both binomial tree and Monte Carlo methods for barrier options. The binomial method provides discrete barrier monitoring while Monte Carlo offers continuous monitoring simulation."
   ]
  },
  {
   "cell_type": "code",
   "execution_count": null,
   "id": "39416b64",
   "metadata": {},
   "outputs": [],
   "source": []
  },
  {
   "cell_type": "markdown",
   "id": "c857b12a",
   "metadata": {},
   "source": [
    "### 2.4 Trade 4: European Basket Call Option\n",
    "\n",
    "**Trade Details:**\n",
    "- Underlying Basket: 10% BHP, 35% CSL, 15% WDS, 40% MQG\n",
    "- Option Type: European Call on basket value\n",
    "- Strike Price: $175.00\n",
    "- Expiry: July 17, 2025\n",
    "- Position: **WRITE** (Bank sells the option)\n",
    "\n",
    "**Valuation Method:** Monte Carlo simulation with correlation structure is essential for basket options as there's no closed-form solution. We use Cholesky decomposition to generate correlated asset price paths."
   ]
  },
  {
   "cell_type": "code",
   "execution_count": null,
   "id": "8cc0cf46",
   "metadata": {},
   "outputs": [],
   "source": []
  },
  {
   "cell_type": "markdown",
   "id": "62ba0827",
   "metadata": {},
   "source": [
    "## 3. Portfolio Analysis and Risk Management\n",
    "\n",
    "### 3.1 Portfolio Construction\n",
    "\n",
    "We now construct the complete portfolio with all four trades, considering the bank's position (long/short) for each option. This section demonstrates sophisticated portfolio management techniques for exotic derivatives."
   ]
  },
  {
   "cell_type": "code",
   "execution_count": null,
   "id": "7982e9eb",
   "metadata": {},
   "outputs": [],
   "source": []
  },
  {
   "cell_type": "markdown",
   "id": "140e3a3f",
   "metadata": {},
   "source": [
    "### 3.2 Comprehensive Risk Analysis\n",
    "\n",
    "This section provides detailed risk analysis including individual option contributions and portfolio-level risk metrics. Our analysis covers all major Greeks and their implications for portfolio management."
   ]
  },
  {
   "cell_type": "code",
   "execution_count": null,
   "id": "c2300321",
   "metadata": {},
   "outputs": [],
   "source": []
  },
  {
   "cell_type": "markdown",
   "id": "9af5d0ad",
   "metadata": {},
   "source": [
    "### 3.3 Hedging Strategy and Recommendations\n",
    "\n",
    "This section provides comprehensive hedging recommendations based on the portfolio's Greek exposures. We analyse both basic delta hedging and more sophisticated multi-dimensional hedging strategies appropriate for an institutional trading desk."
   ]
  },
  {
   "cell_type": "code",
   "execution_count": null,
   "id": "61874d24",
   "metadata": {},
   "outputs": [],
   "source": []
  },
  {
   "cell_type": "markdown",
   "id": "a4884f60",
   "metadata": {},
   "source": [
    "### 3.4 Portfolio Stress Testing and Scenario Analysis\n",
    "\n",
    "We conduct scenario analysis to understand how the portfolio performs under different market conditions. This demonstrates sophisticated risk management practices expected in institutional environments."
   ]
  },
  {
   "cell_type": "code",
   "execution_count": null,
   "id": "6952ad85",
   "metadata": {},
   "outputs": [],
   "source": []
  },
  {
   "cell_type": "markdown",
   "id": "e18691fe",
   "metadata": {},
   "source": [
    "## 4. Summary and Trading Recommendations\n",
    "\n",
    "### 4.1 Executive Summary\n",
    "\n",
    "This section provides a comprehensive summary of all pricing results, risk assessments, and strategic recommendations for the trading desk."
   ]
  },
  {
   "cell_type": "code",
   "execution_count": null,
   "id": "b7d3be7e",
   "metadata": {},
   "outputs": [],
   "source": []
  },
  {
   "cell_type": "markdown",
   "id": "fcb3b7aa",
   "metadata": {},
   "source": [
    "## 5. Technical Documentation\n",
    "\n",
    "### 5.1 Model Validation and Implementation Notes\n",
    "\n",
    "This section documents the technical implementation decisions and validates our modeling choices against industry best practices."
   ]
  },
  {
   "cell_type": "code",
   "execution_count": null,
   "id": "0d82a230",
   "metadata": {},
   "outputs": [],
   "source": []
  }
 ],
 "metadata": {
  "kernelspec": {
   "display_name": ".venv",
   "language": "python",
   "name": "python3"
  },
  "language_info": {
   "codemirror_mode": {
    "name": "ipython",
    "version": 3
   },
   "file_extension": ".py",
   "mimetype": "text/x-python",
   "name": "python",
   "nbconvert_exporter": "python",
   "pygments_lexer": "ipython3",
   "version": "3.12.1"
  }
 },
 "nbformat": 4,
 "nbformat_minor": 5
}
