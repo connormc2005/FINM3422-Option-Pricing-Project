{
 "cells": [
  {
   "cell_type": "code",
   "execution_count": null,
   "id": "bca27742",
   "metadata": {},
   "outputs": [
    {
     "name": "stdout",
     "output_type": "stream",
     "text": [
      "American Put: $23.0277\n",
      "European Put: $21.0088\n",
      "Early Exercise Premium: $2.0189\n",
      "2.0189335745407213\n"
     ]
    }
   ],
   "source": [
    "from datetime import date\n",
    "from Option_Classes import AmericanOption, EuropeanOption\n",
    "\n",
    "# Create American put\n",
    "american_put = AmericanOption(\n",
    "    current_price=155.00,\n",
    "    strike_price=170.00,\n",
    "    expiry=date(2026, 5, 15),\n",
    "    option_type='put',\n",
    "    today_date=date(2024, 12, 1),\n",
    "    interest_rate=0.045,\n",
    "    sigma=0.25,\n",
    "    n_steps=1000\n",
    ")\n",
    "\n",
    "# Create European put for comparison\n",
    "european_put = EuropeanOption(\n",
    "    current_price=155.00,\n",
    "    strike_price=170.00,\n",
    "    expiry=date(2026, 5, 15),\n",
    "    option_type='put',\n",
    "    today_date=date(2024, 12, 1),\n",
    "    interest_rate=0.045,\n",
    "    sigma=0.25\n",
    ")\n",
    "\n",
    "# Get prices\n",
    "american_price = american_put.option_price()  # Binomial tree\n",
    "european_price = european_put.option_price()  # Black-Scholes\n",
    "\n",
    "print(f\"American Put: ${american_price:.4f}\")\n",
    "print(f\"European Put: ${european_price:.4f}\")\n",
    "print(f\"Early Exercise Premium: ${american_price - european_price:.4f}\")\n",
    "\n",
    "print(american_price - european_price)"
   ]
  },
  {
   "cell_type": "code",
   "execution_count": null,
   "id": "6a2561b7",
   "metadata": {},
   "outputs": [],
   "source": []
  }
 ],
 "metadata": {
  "kernelspec": {
   "display_name": "Python 3",
   "language": "python",
   "name": "python3"
  },
  "language_info": {
   "codemirror_mode": {
    "name": "ipython",
    "version": 3
   },
   "file_extension": ".py",
   "mimetype": "text/x-python",
   "name": "python",
   "nbconvert_exporter": "python",
   "pygments_lexer": "ipython3",
   "version": "3.12.1"
  }
 },
 "nbformat": 4,
 "nbformat_minor": 5
}
